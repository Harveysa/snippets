{
 "metadata": {
  "name": "Statsmodels"
 },
 "nbformat": 3,
 "nbformat_minor": 0,
 "worksheets": [
  {
   "cells": [
    {
     "cell_type": "code",
     "collapsed": false,
     "input": [
      "#http://blog.yhathq.com/posts/logistic-regression-and-python.html\n",
      "\n",
      "import pandas as pd\n",
      "import statsmodels.api as sm\n",
      "import pylab as pl\n",
      "import numpy as np\n",
      " \n",
      "# read the data in\n",
      "df = pd.read_csv(\"http://www.ats.ucla.edu/stat/data/binary.csv\")\n",
      " \n",
      "# take a look at the dataset\n",
      "print df.head()"
     ],
     "language": "python",
     "metadata": {},
     "outputs": [
      {
       "output_type": "stream",
       "stream": "stdout",
       "text": [
        "   admit  gre   gpa  rank\n",
        "0      0  380  3.61     3\n",
        "1      1  660  3.67     3\n",
        "2      1  800  4.00     1\n",
        "3      1  640  3.19     4\n",
        "4      0  520  2.93     4\n"
       ]
      }
     ],
     "prompt_number": 4
    },
    {
     "cell_type": "code",
     "collapsed": false,
     "input": [
      "# rename the 'rank' column because there is also a DataFrame method called 'rank'\n",
      "df.columns = [\"admit\", \"gre\", \"gpa\", \"prestige\"]\n",
      "print df.columns"
     ],
     "language": "python",
     "metadata": {},
     "outputs": [
      {
       "output_type": "stream",
       "stream": "stdout",
       "text": [
        "Index([u'admit', u'gre', u'gpa', u'prestige'], dtype='object')\n"
       ]
      }
     ],
     "prompt_number": 5
    },
    {
     "cell_type": "code",
     "collapsed": false,
     "input": [
      "print df.describe()"
     ],
     "language": "python",
     "metadata": {},
     "outputs": [
      {
       "output_type": "stream",
       "stream": "stdout",
       "text": [
        "            admit         gre         gpa   prestige\n",
        "count  400.000000  400.000000  400.000000  400.00000\n",
        "mean     0.317500  587.700000    3.389900    2.48500\n",
        "std      0.466087  115.516536    0.380567    0.94446\n",
        "min      0.000000  220.000000    2.260000    1.00000\n",
        "25%      0.000000  520.000000    3.130000    2.00000\n",
        "50%      0.000000  580.000000    3.395000    2.00000\n",
        "75%      1.000000  660.000000    3.670000    3.00000\n",
        "max      1.000000  800.000000    4.000000    4.00000\n"
       ]
      }
     ],
     "prompt_number": 6
    },
    {
     "cell_type": "code",
     "collapsed": false,
     "input": [
      "# take a look at the standard deviation of each column\n",
      "print df.std()"
     ],
     "language": "python",
     "metadata": {},
     "outputs": [
      {
       "output_type": "stream",
       "stream": "stdout",
       "text": [
        "admit         0.466087\n",
        "gre         115.516536\n",
        "gpa           0.380567\n",
        "prestige      0.944460\n",
        "dtype: float64\n"
       ]
      }
     ],
     "prompt_number": 7
    },
    {
     "cell_type": "code",
     "collapsed": false,
     "input": [
      " \n",
      "# frequency table cutting presitge and whether or not someone was admitted\n",
      "print pd.crosstab(df['admit'], df['prestige'], rownames=['admit'])"
     ],
     "language": "python",
     "metadata": {},
     "outputs": [
      {
       "output_type": "stream",
       "stream": "stdout",
       "text": [
        "prestige   1   2   3   4\n",
        "admit                   \n",
        "0         28  97  93  55\n",
        "1         33  54  28  12\n"
       ]
      }
     ],
     "prompt_number": 8
    },
    {
     "cell_type": "code",
     "collapsed": false,
     "input": [
      "# plot all of the columns\n",
      "df.hist()\n",
      "pl.show()"
     ],
     "language": "python",
     "metadata": {},
     "outputs": [],
     "prompt_number": 9
    },
    {
     "cell_type": "code",
     "collapsed": false,
     "input": [
      "# dummify rank\n",
      "dummy_ranks = pd.get_dummies(df['prestige'], prefix='prestige')\n",
      "print dummy_ranks.head()"
     ],
     "language": "python",
     "metadata": {},
     "outputs": [
      {
       "output_type": "stream",
       "stream": "stdout",
       "text": [
        "   prestige_1  prestige_2  prestige_3  prestige_4\n",
        "0           0           0           1           0\n",
        "1           0           0           1           0\n",
        "2           1           0           0           0\n",
        "3           0           0           0           1\n",
        "4           0           0           0           1\n"
       ]
      }
     ],
     "prompt_number": 10
    },
    {
     "cell_type": "code",
     "collapsed": false,
     "input": [
      "# create a clean data frame for the regression\n",
      "cols_to_keep = ['admit', 'gre', 'gpa']\n",
      "data = df[cols_to_keep].join(dummy_ranks.ix[:, 'prestige_2':])\n",
      "print data.head()"
     ],
     "language": "python",
     "metadata": {},
     "outputs": [
      {
       "output_type": "stream",
       "stream": "stdout",
       "text": [
        "   admit  gre   gpa  prestige_2  prestige_3  prestige_4\n",
        "0      0  380  3.61           0           1           0\n",
        "1      1  660  3.67           0           1           0\n",
        "2      1  800  4.00           0           0           0\n",
        "3      1  640  3.19           0           0           1\n",
        "4      0  520  2.93           0           0           1\n"
       ]
      }
     ],
     "prompt_number": 11
    },
    {
     "cell_type": "code",
     "collapsed": false,
     "input": [
      " \n",
      "# manually add the intercept\n",
      "data['intercept'] = 1.0"
     ],
     "language": "python",
     "metadata": {},
     "outputs": [],
     "prompt_number": 12
    },
    {
     "cell_type": "code",
     "collapsed": false,
     "input": [
      "train_cols = data.columns[1:]\n",
      "# Index([gre, gpa, prestige_2, prestige_3, prestige_4], dtype=object)\n",
      " \n",
      "logit = sm.Logit(data['admit'], data[train_cols])\n",
      " \n",
      "# fit the model\n",
      "result = logit.fit()"
     ],
     "language": "python",
     "metadata": {},
     "outputs": [
      {
       "output_type": "stream",
       "stream": "stdout",
       "text": [
        "Optimization terminated successfully.\n",
        "         Current function value: 0.573147\n",
        "         Iterations 6\n"
       ]
      }
     ],
     "prompt_number": 13
    },
    {
     "cell_type": "code",
     "collapsed": false,
     "input": [
      "# cool enough to deserve it's own gist\n",
      "print result.summary()"
     ],
     "language": "python",
     "metadata": {},
     "outputs": [
      {
       "output_type": "stream",
       "stream": "stdout",
       "text": [
        "                           Logit Regression Results                           \n",
        "==============================================================================\n",
        "Dep. Variable:                  admit   No. Observations:                  400\n",
        "Model:                          Logit   Df Residuals:                      394\n",
        "Method:                           MLE   Df Model:                            5\n",
        "Date:                Sat, 19 Jul 2014   Pseudo R-squ.:                 0.08292\n",
        "Time:                        18:42:58   Log-Likelihood:                -229.26\n",
        "converged:                       True   LL-Null:                       -249.99\n",
        "                                        LLR p-value:                 7.578e-08\n",
        "==============================================================================\n",
        "                 coef    std err          z      P>|z|      [95.0% Conf. Int.]\n",
        "------------------------------------------------------------------------------\n",
        "gre            0.0023      0.001      2.070      0.038         0.000     0.004\n",
        "gpa            0.8040      0.332      2.423      0.015         0.154     1.454\n",
        "prestige_2    -0.6754      0.316     -2.134      0.033        -1.296    -0.055\n",
        "prestige_3    -1.3402      0.345     -3.881      0.000        -2.017    -0.663\n",
        "prestige_4    -1.5515      0.418     -3.713      0.000        -2.370    -0.733\n",
        "intercept     -3.9900      1.140     -3.500      0.000        -6.224    -1.756\n",
        "==============================================================================\n"
       ]
      }
     ],
     "prompt_number": 14
    },
    {
     "cell_type": "code",
     "collapsed": false,
     "input": [
      "# look at the confidence interval of each coeffecient\n",
      "print result.conf_int()"
     ],
     "language": "python",
     "metadata": {},
     "outputs": [
      {
       "output_type": "stream",
       "stream": "stdout",
       "text": [
        "                   0         1\n",
        "gre         0.000120  0.004409\n",
        "gpa         0.153684  1.454391\n",
        "prestige_2 -1.295751 -0.055135\n",
        "prestige_3 -2.016992 -0.663416\n",
        "prestige_4 -2.370399 -0.732529\n",
        "intercept  -6.224242 -1.755716\n"
       ]
      }
     ],
     "prompt_number": 15
    },
    {
     "cell_type": "code",
     "collapsed": false,
     "input": [
      "# odds ratios only\n",
      "print np.exp(result.params)"
     ],
     "language": "python",
     "metadata": {},
     "outputs": [
      {
       "output_type": "stream",
       "stream": "stdout",
       "text": [
        "gre           1.002267\n",
        "gpa           2.234545\n",
        "prestige_2    0.508931\n",
        "prestige_3    0.261792\n",
        "prestige_4    0.211938\n",
        "intercept     0.018500\n",
        "dtype: float64\n"
       ]
      }
     ],
     "prompt_number": 16
    },
    {
     "cell_type": "code",
     "collapsed": false,
     "input": [
      "\n",
      "# odds ratios and 95% CI\n",
      "params = result.params\n",
      "conf = result.conf_int()\n",
      "conf['OR'] = params\n",
      "conf.columns = ['2.5%', '97.5%', 'OR']\n",
      "print np.exp(conf)\n"
     ],
     "language": "python",
     "metadata": {},
     "outputs": [
      {
       "output_type": "stream",
       "stream": "stdout",
       "text": [
        "                2.5%     97.5%        OR\n",
        "gre         1.000120  1.004418  1.002267\n",
        "gpa         1.166122  4.281877  2.234545\n",
        "prestige_2  0.273692  0.946358  0.508931\n",
        "prestige_3  0.133055  0.515089  0.261792\n",
        "prestige_4  0.093443  0.480692  0.211938\n",
        "intercept   0.001981  0.172783  0.018500\n"
       ]
      }
     ],
     "prompt_number": 17
    },
    {
     "cell_type": "code",
     "collapsed": false,
     "input": [
      "# instead of generating all possible values of GRE and GPA, we're going\n",
      "# to use an evenly spaced range of 10 values from the min to the max \n",
      "gres = np.linspace(data['gre'].min(), data['gre'].max(), 10)\n",
      "print gres"
     ],
     "language": "python",
     "metadata": {},
     "outputs": [
      {
       "output_type": "stream",
       "stream": "stdout",
       "text": [
        "[ 220.          284.44444444  348.88888889  413.33333333  477.77777778\n",
        "  542.22222222  606.66666667  671.11111111  735.55555556  800.        ]\n"
       ]
      }
     ],
     "prompt_number": 18
    },
    {
     "cell_type": "code",
     "collapsed": false,
     "input": [
      "gpas = np.linspace(data['gpa'].min(), data['gpa'].max(), 10)\n",
      "print gpas"
     ],
     "language": "python",
     "metadata": {},
     "outputs": [
      {
       "output_type": "stream",
       "stream": "stdout",
       "text": [
        "[ 2.26        2.45333333  2.64666667  2.84        3.03333333  3.22666667\n",
        "  3.42        3.61333333  3.80666667  4.        ]\n"
       ]
      }
     ],
     "prompt_number": 19
    },
    {
     "cell_type": "code",
     "collapsed": false,
     "input": [
      "# enumerate all possibilities\n",
      "combos = pd.DataFrame(cartesian([gres, gpas, [1, 2, 3, 4], [1.]]))\n",
      "# recreate the dummy variables\n",
      "combos.columns = ['gre', 'gpa', 'prestige', 'intercept']\n",
      "dummy_ranks = pd.get_dummies(combos['prestige'], prefix='prestige')\n",
      "dummy_ranks.columns = ['prestige_1', 'prestige_2', 'prestige_3', 'prestige_4']\n",
      " \n",
      "# keep only what we need for making predictions\n",
      "cols_to_keep = ['gre', 'gpa', 'prestige', 'intercept']\n",
      "combos = combos[cols_to_keep].join(dummy_ranks.ix[:, 'prestige_2':])\n",
      " \n",
      "# make predictions on the enumerated dataset\n",
      "combos['admit_pred'] = result.predict(combos[train_cols])\n",
      " \n",
      "print combos.head()"
     ],
     "language": "python",
     "metadata": {},
     "outputs": [
      {
       "output_type": "stream",
       "stream": "stdout",
       "text": [
        "   gre       gpa  prestige  intercept  prestige_2  prestige_3  prestige_4  \\\n",
        "0  220  2.260000         1          1           0           0           0   \n",
        "1  220  2.260000         2          1           1           0           0   \n",
        "2  220  2.260000         3          1           0           1           0   \n",
        "3  220  2.260000         4          1           0           0           1   \n",
        "4  220  2.453333         1          1           0           0           0   \n",
        "\n",
        "   admit_pred  \n",
        "0    0.157801  \n",
        "1    0.087056  \n",
        "2    0.046758  \n",
        "3    0.038194  \n",
        "4    0.179574  \n"
       ]
      }
     ],
     "prompt_number": 22
    },
    {
     "cell_type": "code",
     "collapsed": false,
     "input": [
      "def isolate_and_plot(variable):\n",
      "    # isolate gre and class rank\n",
      "    grouped = pd.pivot_table(combos, values=['admit_pred'], rows=[variable, 'prestige'],\n",
      "                             aggfunc=np.mean)\n",
      "    \n",
      "    # in case you're curious as to what this looks like\n",
      "    # print grouped.head()\n",
      "    #                      admit_pred\n",
      "    # gre        prestige            \n",
      "    # 220.000000 1           0.282462\n",
      "    #            2           0.169987\n",
      "    #            3           0.096544\n",
      "    #            4           0.079859\n",
      "    # 284.444444 1           0.311718\n",
      "    \n",
      "    # make a plot\n",
      "    colors = 'rbgyrbgy'\n",
      "    for col in combos.prestige.unique():\n",
      "        plt_data = grouped.ix[grouped.index.get_level_values(1)==col]\n",
      "        pl.plot(plt_data.index.get_level_values(0), plt_data['admit_pred'],\n",
      "                color=colors[int(col)])\n",
      " \n",
      "    pl.xlabel(variable)\n",
      "    pl.ylabel(\"P(admit=1)\")\n",
      "    pl.legend(['1', '2', '3', '4'], loc='upper left', title='Prestige')\n",
      "    pl.title(\"Prob(admit=1) isolating \" + variable + \" and presitge\")\n",
      "    pl.show()\n",
      " \n",
      "isolate_and_plot('gre')\n",
      "isolate_and_plot('gpa')"
     ],
     "language": "python",
     "metadata": {},
     "outputs": [
      {
       "output_type": "stream",
       "stream": "stderr",
       "text": [
        "/usr/lib64/python2.7/site-packages/pandas-0.14.0-py2.7-linux-x86_64.egg/pandas/util/decorators.py:53: FutureWarning: rows is deprecated, use index instead\n",
        "  warnings.warn(msg, FutureWarning)\n"
       ]
      }
     ],
     "prompt_number": 23
    },
    {
     "cell_type": "code",
     "collapsed": false,
     "input": [
      "import numpy as np\n",
      "\n",
      "def cartesian(arrays, out=None):\n",
      "    \"\"\"\n",
      "    Generate a cartesian product of input arrays.\n",
      "\n",
      "    Parameters\n",
      "    ----------\n",
      "    arrays : list of array-like\n",
      "        1-D arrays to form the cartesian product of.\n",
      "    out : ndarray\n",
      "        Array to place the cartesian product in.\n",
      "\n",
      "    Returns\n",
      "    -------\n",
      "    out : ndarray\n",
      "        2-D array of shape (M, len(arrays)) containing cartesian products\n",
      "        formed of input arrays.\n",
      "\n",
      "    Examples\n",
      "    --------\n",
      "    >>> cartesian(([1, 2, 3], [4, 5], [6, 7]))\n",
      "    array([[1, 4, 6],\n",
      "           [1, 4, 7],\n",
      "           [1, 5, 6],\n",
      "           [1, 5, 7],\n",
      "           [2, 4, 6],\n",
      "           [2, 4, 7],\n",
      "           [2, 5, 6],\n",
      "           [2, 5, 7],\n",
      "           [3, 4, 6],\n",
      "           [3, 4, 7],\n",
      "           [3, 5, 6],\n",
      "           [3, 5, 7]])\n",
      "\n",
      "    \"\"\"\n",
      "\n",
      "    arrays = [np.asarray(x) for x in arrays]\n",
      "    dtype = arrays[0].dtype\n",
      "\n",
      "    n = np.prod([x.size for x in arrays])\n",
      "    if out is None:\n",
      "        out = np.zeros([n, len(arrays)], dtype=dtype)\n",
      "\n",
      "    m = n / arrays[0].size\n",
      "    out[:,0] = np.repeat(arrays[0], m)\n",
      "    if arrays[1:]:\n",
      "        cartesian(arrays[1:], out=out[0:m,1:])\n",
      "        for j in xrange(1, arrays[0].size):\n",
      "            out[j*m:(j+1)*m,1:] = out[0:m,1:]\n",
      "    return out"
     ],
     "language": "python",
     "metadata": {},
     "outputs": [],
     "prompt_number": 21
    },
    {
     "cell_type": "code",
     "collapsed": false,
     "input": [],
     "language": "python",
     "metadata": {},
     "outputs": []
    }
   ],
   "metadata": {}
  }
 ]
}